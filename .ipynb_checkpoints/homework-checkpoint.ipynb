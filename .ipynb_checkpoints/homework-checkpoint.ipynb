{
 "cells": [
  {
   "cell_type": "markdown",
   "id": "04f33d4c-4af9-4c50-827a-8d5df0281473",
   "metadata": {},
   "source": [
    "# Setup"
   ]
  },
  {
   "cell_type": "code",
   "execution_count": 1,
   "id": "0537c0aa-1f9d-4314-81e9-0922d2a75ba4",
   "metadata": {},
   "outputs": [],
   "source": [
    "import pandas as pd\n",
    "import numpy as np\n",
    "import statsmodels.api as sm\n",
    "from statsmodels.iolib.summary2 import Summary\n",
    "import matplotlib.pyplot as plt\n",
    "import statistics\n",
    "from scipy.stats import norm\n",
    "import os"
   ]
  },
  {
   "cell_type": "code",
   "execution_count": 2,
   "id": "755907d9-5c19-4449-94b6-5f9788fa7a90",
   "metadata": {},
   "outputs": [
    {
     "name": "stdout",
     "output_type": "stream",
     "text": [
      "Current Working Directory: /Users/Victor.J/Desktop/all_codes/krw_data\n",
      "New Working Directory: /Users/Victor.J/Desktop/all_codes/krw_data/data\n"
     ]
    }
   ],
   "source": [
    "print(f\"Current Working Directory: {os.getcwd()}\")\n",
    "# reading the csv into a dataframe\n",
    "krw_data = pd.read_csv(\"krw_data.csv\")\n",
    "krw_data.head()\n",
    "\n",
    "# change working directory such that all data gets consolidated into a folder.\n",
    "os.chdir(\"./data\")\n",
    "print(f\"New Working Directory: {os.getcwd()}\")"
   ]
  },
  {
   "cell_type": "markdown",
   "id": "a3f618e2-905f-462f-a7fb-d26530515183",
   "metadata": {},
   "source": [
    "# Problem 2"
   ]
  },
  {
   "cell_type": "markdown",
   "id": "d4e39c3b-6886-4962-815b-16c0b1d732cb",
   "metadata": {},
   "source": [
    "## Part 1"
   ]
  },
  {
   "cell_type": "code",
   "execution_count": 3,
   "id": "e7760819-1095-4cd3-b973-44184265d92f",
   "metadata": {},
   "outputs": [
    {
     "name": "stdout",
     "output_type": "stream",
     "text": [
      "Number of applications: 78910\n",
      "Number of employers: 97\n",
      "Number of job positions: 10453\n"
     ]
    }
   ],
   "source": [
    "# dataframe verification\n",
    "distinct_job_ids = krw_data['job_id'].nunique() # number of distinct jobs\n",
    "distinct_firm_names = krw_data['firm_name'].nunique() # number of distinct firm names\n",
    "print(\"Number of applications:\", len(krw_data))\n",
    "print(\"Number of employers:\", distinct_firm_names)\n",
    "print(\"Number of job positions:\", distinct_job_ids)"
   ]
  },
  {
   "cell_type": "code",
   "execution_count": 4,
   "id": "e0ef38a4-c954-42d9-b9b8-9e882e94a8a2",
   "metadata": {},
   "outputs": [
    {
     "data": {
      "text/html": [
       "<div>\n",
       "<style scoped>\n",
       "    .dataframe tbody tr th:only-of-type {\n",
       "        vertical-align: middle;\n",
       "    }\n",
       "\n",
       "    .dataframe tbody tr th {\n",
       "        vertical-align: top;\n",
       "    }\n",
       "\n",
       "    .dataframe thead th {\n",
       "        text-align: right;\n",
       "    }\n",
       "</style>\n",
       "<table border=\"1\" class=\"dataframe\">\n",
       "  <thead>\n",
       "    <tr style=\"text-align: right;\">\n",
       "      <th></th>\n",
       "      <th>white</th>\n",
       "      <th>black</th>\n",
       "    </tr>\n",
       "    <tr>\n",
       "      <th>job_id</th>\n",
       "      <th></th>\n",
       "      <th></th>\n",
       "    </tr>\n",
       "  </thead>\n",
       "  <tbody>\n",
       "    <tr>\n",
       "      <th>1</th>\n",
       "      <td>2</td>\n",
       "      <td>2</td>\n",
       "    </tr>\n",
       "    <tr>\n",
       "      <th>2</th>\n",
       "      <td>1</td>\n",
       "      <td>1</td>\n",
       "    </tr>\n",
       "    <tr>\n",
       "      <th>3</th>\n",
       "      <td>4</td>\n",
       "      <td>4</td>\n",
       "    </tr>\n",
       "    <tr>\n",
       "      <th>4</th>\n",
       "      <td>4</td>\n",
       "      <td>4</td>\n",
       "    </tr>\n",
       "    <tr>\n",
       "      <th>5</th>\n",
       "      <td>2</td>\n",
       "      <td>2</td>\n",
       "    </tr>\n",
       "    <tr>\n",
       "      <th>...</th>\n",
       "      <td>...</td>\n",
       "      <td>...</td>\n",
       "    </tr>\n",
       "    <tr>\n",
       "      <th>12560</th>\n",
       "      <td>4</td>\n",
       "      <td>4</td>\n",
       "    </tr>\n",
       "    <tr>\n",
       "      <th>12561</th>\n",
       "      <td>4</td>\n",
       "      <td>4</td>\n",
       "    </tr>\n",
       "    <tr>\n",
       "      <th>12562</th>\n",
       "      <td>4</td>\n",
       "      <td>4</td>\n",
       "    </tr>\n",
       "    <tr>\n",
       "      <th>12563</th>\n",
       "      <td>4</td>\n",
       "      <td>4</td>\n",
       "    </tr>\n",
       "    <tr>\n",
       "      <th>12564</th>\n",
       "      <td>4</td>\n",
       "      <td>4</td>\n",
       "    </tr>\n",
       "  </tbody>\n",
       "</table>\n",
       "<p>10453 rows × 2 columns</p>\n",
       "</div>"
      ],
      "text/plain": [
       "        white  black\n",
       "job_id              \n",
       "1           2      2\n",
       "2           1      1\n",
       "3           4      4\n",
       "4           4      4\n",
       "5           2      2\n",
       "...       ...    ...\n",
       "12560       4      4\n",
       "12561       4      4\n",
       "12562       4      4\n",
       "12563       4      4\n",
       "12564       4      4\n",
       "\n",
       "[10453 rows x 2 columns]"
      ]
     },
     "execution_count": 4,
     "metadata": {},
     "output_type": "execute_result"
    }
   ],
   "source": [
    "# list of number of applications by race for each job\n",
    "# definitely don't think it's needed, but I'll leave it here\n",
    "job_specific_data = krw_data.groupby('job_id').agg(\n",
    "    white=('white', lambda x: (x == 1).sum()), \n",
    "    black=('white', lambda x: (x == 0).sum()),\n",
    ")\n",
    "job_specific_data"
   ]
  },
  {
   "cell_type": "markdown",
   "id": "fba4ab19-cf41-4c63-bb4b-22305803e92e",
   "metadata": {},
   "source": [
    "## Part 2\n",
    "Running OLS regressions between `callback` and `white` contingent upon different assumptions."
   ]
  },
  {
   "cell_type": "markdown",
   "id": "4562fbfa-d265-4b8d-8fb5-4c91b93ed53d",
   "metadata": {},
   "source": [
    "### Setup"
   ]
  },
  {
   "cell_type": "code",
   "execution_count": 5,
   "id": "7c6832b2-a636-43be-a41b-bc0430ce2c47",
   "metadata": {},
   "outputs": [],
   "source": [
    "X = krw_data['white']\n",
    "y = krw_data['callback']\n",
    "X = sm.add_constant(X)"
   ]
  },
  {
   "cell_type": "markdown",
   "id": "69d7aa9a-1c53-412c-9f5c-1cdfc3d076d9",
   "metadata": {},
   "source": [
    "### Generic OLS"
   ]
  },
  {
   "cell_type": "code",
   "execution_count": 6,
   "id": "d5193e01-3b41-4b41-a8ac-8bf2dbf998aa",
   "metadata": {},
   "outputs": [
    {
     "name": "stdout",
     "output_type": "stream",
     "text": [
      "LaTeX output saved to 'generic_model.tex'\n"
     ]
    },
    {
     "data": {
      "text/html": [
       "<table class=\"simpletable\">\n",
       "<caption>OLS Regression Results</caption>\n",
       "<tr>\n",
       "  <th>Dep. Variable:</th>        <td>callback</td>     <th>  R-squared:         </th> <td>   0.001</td> \n",
       "</tr>\n",
       "<tr>\n",
       "  <th>Model:</th>                   <td>OLS</td>       <th>  Adj. R-squared:    </th> <td>   0.001</td> \n",
       "</tr>\n",
       "<tr>\n",
       "  <th>Method:</th>             <td>Least Squares</td>  <th>  F-statistic:       </th> <td>   50.08</td> \n",
       "</tr>\n",
       "<tr>\n",
       "  <th>Date:</th>             <td>Fri, 06 Dec 2024</td> <th>  Prob (F-statistic):</th> <td>1.49e-12</td> \n",
       "</tr>\n",
       "<tr>\n",
       "  <th>Time:</th>                 <td>14:15:53</td>     <th>  Log-Likelihood:    </th> <td> -46075.</td> \n",
       "</tr>\n",
       "<tr>\n",
       "  <th>No. Observations:</th>      <td> 78910</td>      <th>  AIC:               </th> <td>9.215e+04</td>\n",
       "</tr>\n",
       "<tr>\n",
       "  <th>Df Residuals:</th>          <td> 78908</td>      <th>  BIC:               </th> <td>9.217e+04</td>\n",
       "</tr>\n",
       "<tr>\n",
       "  <th>Df Model:</th>              <td>     1</td>      <th>                     </th>     <td> </td>    \n",
       "</tr>\n",
       "<tr>\n",
       "  <th>Covariance Type:</th>      <td>nonrobust</td>    <th>                     </th>     <td> </td>    \n",
       "</tr>\n",
       "</table>\n",
       "<table class=\"simpletable\">\n",
       "<tr>\n",
       "    <td></td>       <th>coef</th>     <th>std err</th>      <th>t</th>      <th>P>|t|</th>  <th>[0.025</th>    <th>0.975]</th>  \n",
       "</tr>\n",
       "<tr>\n",
       "  <th>const</th> <td>    0.2408</td> <td>    0.002</td> <td>  110.210</td> <td> 0.000</td> <td>    0.236</td> <td>    0.245</td>\n",
       "</tr>\n",
       "<tr>\n",
       "  <th>white</th> <td>    0.0219</td> <td>    0.003</td> <td>    7.076</td> <td> 0.000</td> <td>    0.016</td> <td>    0.028</td>\n",
       "</tr>\n",
       "</table>\n",
       "<table class=\"simpletable\">\n",
       "<tr>\n",
       "  <th>Omnibus:</th>       <td>15330.467</td> <th>  Durbin-Watson:     </th> <td>   1.743</td> \n",
       "</tr>\n",
       "<tr>\n",
       "  <th>Prob(Omnibus):</th>  <td> 0.000</td>   <th>  Jarque-Bera (JB):  </th> <td>18751.134</td>\n",
       "</tr>\n",
       "<tr>\n",
       "  <th>Skew:</th>           <td> 1.143</td>   <th>  Prob(JB):          </th> <td>    0.00</td> \n",
       "</tr>\n",
       "<tr>\n",
       "  <th>Kurtosis:</th>       <td> 2.310</td>   <th>  Cond. No.          </th> <td>    2.62</td> \n",
       "</tr>\n",
       "</table><br/><br/>Notes:<br/>[1] Standard Errors assume that the covariance matrix of the errors is correctly specified."
      ],
      "text/plain": [
       "<class 'statsmodels.iolib.summary.Summary'>\n",
       "\"\"\"\n",
       "                            OLS Regression Results                            \n",
       "==============================================================================\n",
       "Dep. Variable:               callback   R-squared:                       0.001\n",
       "Model:                            OLS   Adj. R-squared:                  0.001\n",
       "Method:                 Least Squares   F-statistic:                     50.08\n",
       "Date:                Fri, 06 Dec 2024   Prob (F-statistic):           1.49e-12\n",
       "Time:                        14:15:53   Log-Likelihood:                -46075.\n",
       "No. Observations:               78910   AIC:                         9.215e+04\n",
       "Df Residuals:                   78908   BIC:                         9.217e+04\n",
       "Df Model:                           1                                         \n",
       "Covariance Type:            nonrobust                                         \n",
       "==============================================================================\n",
       "                 coef    std err          t      P>|t|      [0.025      0.975]\n",
       "------------------------------------------------------------------------------\n",
       "const          0.2408      0.002    110.210      0.000       0.236       0.245\n",
       "white          0.0219      0.003      7.076      0.000       0.016       0.028\n",
       "==============================================================================\n",
       "Omnibus:                    15330.467   Durbin-Watson:                   1.743\n",
       "Prob(Omnibus):                  0.000   Jarque-Bera (JB):            18751.134\n",
       "Skew:                           1.143   Prob(JB):                         0.00\n",
       "Kurtosis:                       2.310   Cond. No.                         2.62\n",
       "==============================================================================\n",
       "\n",
       "Notes:\n",
       "[1] Standard Errors assume that the covariance matrix of the errors is correctly specified.\n",
       "\"\"\""
      ]
     },
     "execution_count": 6,
     "metadata": {},
     "output_type": "execute_result"
    }
   ],
   "source": [
    "generic_model = sm.OLS(y, X).fit()\n",
    "generic_model_summary = generic_model.summary()\n",
    "generic_model_latex_output = generic_model_summary.as_latex()\n",
    "with open(\"generic_model.tex\", \"w\") as f:\n",
    "    f.write(generic_model_latex_output)\n",
    "\n",
    "print(\"LaTeX output saved to 'generic_model.tex'\")\n",
    "\n",
    "generic_model_summary"
   ]
  },
  {
   "cell_type": "markdown",
   "id": "eb313978-da75-4878-8f59-0cc6c917c316",
   "metadata": {},
   "source": [
    "### Heteroskedasticity-robust OLS"
   ]
  },
  {
   "cell_type": "code",
   "execution_count": 7,
   "id": "ad18d81b-d378-479e-9c51-79e7552634a1",
   "metadata": {},
   "outputs": [
    {
     "name": "stdout",
     "output_type": "stream",
     "text": [
      "LaTeX output saved to 'robust_model.tex'\n"
     ]
    },
    {
     "data": {
      "text/html": [
       "<table class=\"simpletable\">\n",
       "<caption>OLS Regression Results</caption>\n",
       "<tr>\n",
       "  <th>Dep. Variable:</th>        <td>callback</td>     <th>  R-squared:         </th> <td>   0.001</td> \n",
       "</tr>\n",
       "<tr>\n",
       "  <th>Model:</th>                   <td>OLS</td>       <th>  Adj. R-squared:    </th> <td>   0.001</td> \n",
       "</tr>\n",
       "<tr>\n",
       "  <th>Method:</th>             <td>Least Squares</td>  <th>  F-statistic:       </th> <td>   50.08</td> \n",
       "</tr>\n",
       "<tr>\n",
       "  <th>Date:</th>             <td>Fri, 06 Dec 2024</td> <th>  Prob (F-statistic):</th> <td>1.49e-12</td> \n",
       "</tr>\n",
       "<tr>\n",
       "  <th>Time:</th>                 <td>14:15:53</td>     <th>  Log-Likelihood:    </th> <td> -46075.</td> \n",
       "</tr>\n",
       "<tr>\n",
       "  <th>No. Observations:</th>      <td> 78910</td>      <th>  AIC:               </th> <td>9.215e+04</td>\n",
       "</tr>\n",
       "<tr>\n",
       "  <th>Df Residuals:</th>          <td> 78908</td>      <th>  BIC:               </th> <td>9.217e+04</td>\n",
       "</tr>\n",
       "<tr>\n",
       "  <th>Df Model:</th>              <td>     1</td>      <th>                     </th>     <td> </td>    \n",
       "</tr>\n",
       "<tr>\n",
       "  <th>Covariance Type:</th>         <td>HC1</td>       <th>                     </th>     <td> </td>    \n",
       "</tr>\n",
       "</table>\n",
       "<table class=\"simpletable\">\n",
       "<tr>\n",
       "    <td></td>       <th>coef</th>     <th>std err</th>      <th>z</th>      <th>P>|z|</th>  <th>[0.025</th>    <th>0.975]</th>  \n",
       "</tr>\n",
       "<tr>\n",
       "  <th>const</th> <td>    0.2408</td> <td>    0.002</td> <td>  111.835</td> <td> 0.000</td> <td>    0.237</td> <td>    0.245</td>\n",
       "</tr>\n",
       "<tr>\n",
       "  <th>white</th> <td>    0.0219</td> <td>    0.003</td> <td>    7.077</td> <td> 0.000</td> <td>    0.016</td> <td>    0.028</td>\n",
       "</tr>\n",
       "</table>\n",
       "<table class=\"simpletable\">\n",
       "<tr>\n",
       "  <th>Omnibus:</th>       <td>15330.467</td> <th>  Durbin-Watson:     </th> <td>   1.743</td> \n",
       "</tr>\n",
       "<tr>\n",
       "  <th>Prob(Omnibus):</th>  <td> 0.000</td>   <th>  Jarque-Bera (JB):  </th> <td>18751.134</td>\n",
       "</tr>\n",
       "<tr>\n",
       "  <th>Skew:</th>           <td> 1.143</td>   <th>  Prob(JB):          </th> <td>    0.00</td> \n",
       "</tr>\n",
       "<tr>\n",
       "  <th>Kurtosis:</th>       <td> 2.310</td>   <th>  Cond. No.          </th> <td>    2.62</td> \n",
       "</tr>\n",
       "</table><br/><br/>Notes:<br/>[1] Standard Errors are heteroscedasticity robust (HC1)"
      ],
      "text/plain": [
       "<class 'statsmodels.iolib.summary.Summary'>\n",
       "\"\"\"\n",
       "                            OLS Regression Results                            \n",
       "==============================================================================\n",
       "Dep. Variable:               callback   R-squared:                       0.001\n",
       "Model:                            OLS   Adj. R-squared:                  0.001\n",
       "Method:                 Least Squares   F-statistic:                     50.08\n",
       "Date:                Fri, 06 Dec 2024   Prob (F-statistic):           1.49e-12\n",
       "Time:                        14:15:53   Log-Likelihood:                -46075.\n",
       "No. Observations:               78910   AIC:                         9.215e+04\n",
       "Df Residuals:                   78908   BIC:                         9.217e+04\n",
       "Df Model:                           1                                         \n",
       "Covariance Type:                  HC1                                         \n",
       "==============================================================================\n",
       "                 coef    std err          z      P>|z|      [0.025      0.975]\n",
       "------------------------------------------------------------------------------\n",
       "const          0.2408      0.002    111.835      0.000       0.237       0.245\n",
       "white          0.0219      0.003      7.077      0.000       0.016       0.028\n",
       "==============================================================================\n",
       "Omnibus:                    15330.467   Durbin-Watson:                   1.743\n",
       "Prob(Omnibus):                  0.000   Jarque-Bera (JB):            18751.134\n",
       "Skew:                           1.143   Prob(JB):                         0.00\n",
       "Kurtosis:                       2.310   Cond. No.                         2.62\n",
       "==============================================================================\n",
       "\n",
       "Notes:\n",
       "[1] Standard Errors are heteroscedasticity robust (HC1)\n",
       "\"\"\""
      ]
     },
     "execution_count": 7,
     "metadata": {},
     "output_type": "execute_result"
    }
   ],
   "source": [
    "robust_model = sm.OLS(y, X).fit(cov_type='HC1')\n",
    "robust_model_summary = robust_model.summary()\n",
    "robust_model_summary_latex_output = robust_model_summary.as_latex()\n",
    "\n",
    "with open(\"robust_model.tex\", \"w\") as f:\n",
    "    f.write(robust_model_summary_latex_output)\n",
    "\n",
    "print(\"LaTeX output saved to 'robust_model.tex'\")\n",
    "\n",
    "robust_model_summary"
   ]
  },
  {
   "cell_type": "markdown",
   "id": "aed1789c-322f-4d5e-b933-1ee198b6fdd1",
   "metadata": {},
   "source": [
    "### Job-clustered OLS"
   ]
  },
  {
   "cell_type": "code",
   "execution_count": 8,
   "id": "3107e783-925a-4a83-a969-e8c51251cbc0",
   "metadata": {},
   "outputs": [
    {
     "name": "stdout",
     "output_type": "stream",
     "text": [
      "LaTeX output saved to 'job_clustered_model.tex'\n"
     ]
    },
    {
     "data": {
      "text/html": [
       "<table class=\"simpletable\">\n",
       "<caption>OLS Regression Results</caption>\n",
       "<tr>\n",
       "  <th>Dep. Variable:</th>        <td>callback</td>     <th>  R-squared:         </th> <td>   0.001</td> \n",
       "</tr>\n",
       "<tr>\n",
       "  <th>Model:</th>                   <td>OLS</td>       <th>  Adj. R-squared:    </th> <td>   0.001</td> \n",
       "</tr>\n",
       "<tr>\n",
       "  <th>Method:</th>             <td>Least Squares</td>  <th>  F-statistic:       </th> <td>   152.4</td> \n",
       "</tr>\n",
       "<tr>\n",
       "  <th>Date:</th>             <td>Fri, 06 Dec 2024</td> <th>  Prob (F-statistic):</th> <td>8.89e-35</td> \n",
       "</tr>\n",
       "<tr>\n",
       "  <th>Time:</th>                 <td>14:15:53</td>     <th>  Log-Likelihood:    </th> <td> -46075.</td> \n",
       "</tr>\n",
       "<tr>\n",
       "  <th>No. Observations:</th>      <td> 78910</td>      <th>  AIC:               </th> <td>9.215e+04</td>\n",
       "</tr>\n",
       "<tr>\n",
       "  <th>Df Residuals:</th>          <td> 78908</td>      <th>  BIC:               </th> <td>9.217e+04</td>\n",
       "</tr>\n",
       "<tr>\n",
       "  <th>Df Model:</th>              <td>     1</td>      <th>                     </th>     <td> </td>    \n",
       "</tr>\n",
       "<tr>\n",
       "  <th>Covariance Type:</th>       <td>cluster</td>     <th>                     </th>     <td> </td>    \n",
       "</tr>\n",
       "</table>\n",
       "<table class=\"simpletable\">\n",
       "<tr>\n",
       "    <td></td>       <th>coef</th>     <th>std err</th>      <th>z</th>      <th>P>|z|</th>  <th>[0.025</th>    <th>0.975]</th>  \n",
       "</tr>\n",
       "<tr>\n",
       "  <th>const</th> <td>    0.2408</td> <td>    0.004</td> <td>   65.473</td> <td> 0.000</td> <td>    0.234</td> <td>    0.248</td>\n",
       "</tr>\n",
       "<tr>\n",
       "  <th>white</th> <td>    0.0219</td> <td>    0.002</td> <td>   12.346</td> <td> 0.000</td> <td>    0.018</td> <td>    0.025</td>\n",
       "</tr>\n",
       "</table>\n",
       "<table class=\"simpletable\">\n",
       "<tr>\n",
       "  <th>Omnibus:</th>       <td>15330.467</td> <th>  Durbin-Watson:     </th> <td>   1.743</td> \n",
       "</tr>\n",
       "<tr>\n",
       "  <th>Prob(Omnibus):</th>  <td> 0.000</td>   <th>  Jarque-Bera (JB):  </th> <td>18751.134</td>\n",
       "</tr>\n",
       "<tr>\n",
       "  <th>Skew:</th>           <td> 1.143</td>   <th>  Prob(JB):          </th> <td>    0.00</td> \n",
       "</tr>\n",
       "<tr>\n",
       "  <th>Kurtosis:</th>       <td> 2.310</td>   <th>  Cond. No.          </th> <td>    2.62</td> \n",
       "</tr>\n",
       "</table><br/><br/>Notes:<br/>[1] Standard Errors are robust to cluster correlation (cluster)"
      ],
      "text/plain": [
       "<class 'statsmodels.iolib.summary.Summary'>\n",
       "\"\"\"\n",
       "                            OLS Regression Results                            \n",
       "==============================================================================\n",
       "Dep. Variable:               callback   R-squared:                       0.001\n",
       "Model:                            OLS   Adj. R-squared:                  0.001\n",
       "Method:                 Least Squares   F-statistic:                     152.4\n",
       "Date:                Fri, 06 Dec 2024   Prob (F-statistic):           8.89e-35\n",
       "Time:                        14:15:53   Log-Likelihood:                -46075.\n",
       "No. Observations:               78910   AIC:                         9.215e+04\n",
       "Df Residuals:                   78908   BIC:                         9.217e+04\n",
       "Df Model:                           1                                         \n",
       "Covariance Type:              cluster                                         \n",
       "==============================================================================\n",
       "                 coef    std err          z      P>|z|      [0.025      0.975]\n",
       "------------------------------------------------------------------------------\n",
       "const          0.2408      0.004     65.473      0.000       0.234       0.248\n",
       "white          0.0219      0.002     12.346      0.000       0.018       0.025\n",
       "==============================================================================\n",
       "Omnibus:                    15330.467   Durbin-Watson:                   1.743\n",
       "Prob(Omnibus):                  0.000   Jarque-Bera (JB):            18751.134\n",
       "Skew:                           1.143   Prob(JB):                         0.00\n",
       "Kurtosis:                       2.310   Cond. No.                         2.62\n",
       "==============================================================================\n",
       "\n",
       "Notes:\n",
       "[1] Standard Errors are robust to cluster correlation (cluster)\n",
       "\"\"\""
      ]
     },
     "execution_count": 8,
     "metadata": {},
     "output_type": "execute_result"
    }
   ],
   "source": [
    "# job-clustered model\n",
    "job_clustered_model = sm.OLS(y, X).fit(cov_type='cluster', cov_kwds={'groups': krw_data['job_id']})\n",
    "job_clustered_model_summary = job_clustered_model.summary()\n",
    "job_clustered_model_latex_output = job_clustered_model_summary.as_latex()\n",
    "\n",
    "with open(\"job_clustered_model.tex\", \"w\") as f:\n",
    "    f.write(job_clustered_model_latex_output)\n",
    "\n",
    "print(\"LaTeX output saved to 'job_clustered_model.tex'\")\n",
    "\n",
    "job_clustered_model_summary"
   ]
  },
  {
   "cell_type": "markdown",
   "id": "8f6bd016-c258-4ce8-8d1e-d08e40192235",
   "metadata": {},
   "source": [
    "## Part 3"
   ]
  },
  {
   "cell_type": "markdown",
   "id": "9168fbfa-9a3e-4af1-9237-ad0d38b340a6",
   "metadata": {},
   "source": [
    "### White/black difference in callback rates, by firm"
   ]
  },
  {
   "cell_type": "code",
   "execution_count": 9,
   "id": "da80e487-927e-44da-8566-f7ea4622fd73",
   "metadata": {},
   "outputs": [
    {
     "data": {
      "text/html": [
       "<div>\n",
       "<style scoped>\n",
       "    .dataframe tbody tr th:only-of-type {\n",
       "        vertical-align: middle;\n",
       "    }\n",
       "\n",
       "    .dataframe tbody tr th {\n",
       "        vertical-align: top;\n",
       "    }\n",
       "\n",
       "    .dataframe thead th {\n",
       "        text-align: right;\n",
       "    }\n",
       "</style>\n",
       "<table border=\"1\" class=\"dataframe\">\n",
       "  <thead>\n",
       "    <tr style=\"text-align: right;\">\n",
       "      <th></th>\n",
       "      <th>firm_name</th>\n",
       "      <th>hat_theta_f</th>\n",
       "      <th>s_f</th>\n",
       "      <th>s_f_squared</th>\n",
       "    </tr>\n",
       "  </thead>\n",
       "  <tbody>\n",
       "    <tr>\n",
       "      <th>0</th>\n",
       "      <td>AECOM</td>\n",
       "      <td>0.005348</td>\n",
       "      <td>0.005354</td>\n",
       "      <td>0.000029</td>\n",
       "    </tr>\n",
       "    <tr>\n",
       "      <th>1</th>\n",
       "      <td>AT&amp;T</td>\n",
       "      <td>0.009786</td>\n",
       "      <td>0.016910</td>\n",
       "      <td>0.000286</td>\n",
       "    </tr>\n",
       "    <tr>\n",
       "      <th>2</th>\n",
       "      <td>Advance Auto Parts</td>\n",
       "      <td>0.073961</td>\n",
       "      <td>0.022226</td>\n",
       "      <td>0.000494</td>\n",
       "    </tr>\n",
       "    <tr>\n",
       "      <th>3</th>\n",
       "      <td>Aramark</td>\n",
       "      <td>0.019391</td>\n",
       "      <td>0.011832</td>\n",
       "      <td>0.000140</td>\n",
       "    </tr>\n",
       "    <tr>\n",
       "      <th>4</th>\n",
       "      <td>Ascena (Ann Taylor / Loft)</td>\n",
       "      <td>0.067797</td>\n",
       "      <td>0.022934</td>\n",
       "      <td>0.000526</td>\n",
       "    </tr>\n",
       "    <tr>\n",
       "      <th>...</th>\n",
       "      <td>...</td>\n",
       "      <td>...</td>\n",
       "      <td>...</td>\n",
       "      <td>...</td>\n",
       "    </tr>\n",
       "    <tr>\n",
       "      <th>92</th>\n",
       "      <td>Walgreens</td>\n",
       "      <td>0.061017</td>\n",
       "      <td>0.023519</td>\n",
       "      <td>0.000553</td>\n",
       "    </tr>\n",
       "    <tr>\n",
       "      <th>93</th>\n",
       "      <td>Walmart</td>\n",
       "      <td>0.070000</td>\n",
       "      <td>0.039198</td>\n",
       "      <td>0.001537</td>\n",
       "    </tr>\n",
       "    <tr>\n",
       "      <th>94</th>\n",
       "      <td>Waste Management</td>\n",
       "      <td>0.000092</td>\n",
       "      <td>0.014720</td>\n",
       "      <td>0.000217</td>\n",
       "    </tr>\n",
       "    <tr>\n",
       "      <th>95</th>\n",
       "      <td>WestRock</td>\n",
       "      <td>0.001852</td>\n",
       "      <td>0.018573</td>\n",
       "      <td>0.000345</td>\n",
       "    </tr>\n",
       "    <tr>\n",
       "      <th>96</th>\n",
       "      <td>XPO Logistics</td>\n",
       "      <td>0.010473</td>\n",
       "      <td>0.013363</td>\n",
       "      <td>0.000179</td>\n",
       "    </tr>\n",
       "  </tbody>\n",
       "</table>\n",
       "<p>97 rows × 4 columns</p>\n",
       "</div>"
      ],
      "text/plain": [
       "                     firm_name  hat_theta_f       s_f  s_f_squared\n",
       "0                        AECOM     0.005348  0.005354     0.000029\n",
       "1                         AT&T     0.009786  0.016910     0.000286\n",
       "2           Advance Auto Parts     0.073961  0.022226     0.000494\n",
       "3                      Aramark     0.019391  0.011832     0.000140\n",
       "4   Ascena (Ann Taylor / Loft)     0.067797  0.022934     0.000526\n",
       "..                         ...          ...       ...          ...\n",
       "92                   Walgreens     0.061017  0.023519     0.000553\n",
       "93                     Walmart     0.070000  0.039198     0.001537\n",
       "94            Waste Management     0.000092  0.014720     0.000217\n",
       "95                    WestRock     0.001852  0.018573     0.000345\n",
       "96               XPO Logistics     0.010473  0.013363     0.000179\n",
       "\n",
       "[97 rows x 4 columns]"
      ]
     },
     "execution_count": 9,
     "metadata": {},
     "output_type": "execute_result"
    }
   ],
   "source": [
    "# helper function that calculates firm-specific job-clustered SE\n",
    "def job_clustered_se(firm):\n",
    "    X = sm.add_constant(firm['white'])  \n",
    "    y = firm['callback']\n",
    "    model = sm.OLS(y, X).fit(cov_type='cluster', cov_kwds={'groups': firm['job_id']}) # note the job-clustering here\n",
    "    return model.bse['white']\n",
    "\n",
    "firm_callback_race = (\n",
    "    krw_data.groupby('firm_name') \n",
    "    .apply(lambda x: pd.Series({\n",
    "        'hat_theta_f': x.loc[x['white'] == 1, 'callback'].mean() - x.loc[x['white'] == 0, 'callback'].mean(),\n",
    "        's_f': job_clustered_se(x),\n",
    "        's_f_squared': (job_clustered_se(x) ** 2)\n",
    "    }))\n",
    "    .reset_index()\n",
    ")\n",
    "\n",
    "firm_callback_race"
   ]
  },
  {
   "cell_type": "markdown",
   "id": "f4a7107b-05e7-4d7c-a0d5-ff48f4d7e9e1",
   "metadata": {},
   "source": [
    "### Histogram for the contact gaps"
   ]
  },
  {
   "cell_type": "code",
   "execution_count": 10,
   "id": "1096a5f1-9c6c-46c5-923c-602157142dc2",
   "metadata": {},
   "outputs": [
    {
     "name": "stdout",
     "output_type": "stream",
     "text": [
      "Image output saved to 'callback-histogram.png'\n"
     ]
    },
    {
     "data": {
      "image/png": "[encoded data removed]",
      "text/plain": [
       "<Figure size 720x720 with 1 Axes>"
      ]
     },
     "metadata": {
      "needs_background": "light"
     },
     "output_type": "display_data"
    }
   ],
   "source": [
    "plt.figure(figsize=(10, 10))\n",
    "plt.hist(firm_callback_race['hat_theta_f'], bins=15, edgecolor='black', alpha=0.7, label='$\\\\hat{\\\\theta}_f$')\n",
    "plt.title('Histogram of white-black callback rate differences, in percentage points')\n",
    "plt.xlabel('Percentage points')\n",
    "plt.ylabel('Frequency')\n",
    "plt.ylim(0, 30)\n",
    "plt.grid(axis='y', linestyle='--', alpha=0.7)\n",
    "plt.legend()\n",
    "file_name = \"callback-histogram.png\"\n",
    "plt.savefig(file_name)\n",
    "print(f\"Image output saved to '{file_name}'\")\n",
    "plt.show()"
   ]
  },
  {
   "cell_type": "markdown",
   "id": "bc8da2b7-3ae6-4661-84d4-74ca5023ab9d",
   "metadata": {},
   "source": [
    "## Part 4\n",
    "\n",
    "Estimation of mean ($\\mu_\\theta$) and variance ($\\sigma_\\theta^2$) contact gaps across firms ($\\theta_f$)."
   ]
  },
  {
   "cell_type": "code",
   "execution_count": 11,
   "id": "4778a321-fea3-4b66-a225-612bf2735469",
   "metadata": {},
   "outputs": [
    {
     "name": "stdout",
     "output_type": "stream",
     "text": [
      "0.02111287831292505\n",
      "0.00028041767428740015 0.0003100907537655922\n",
      "0.0005905084280529924\n",
      "0.5251250262219197\n"
     ]
    }
   ],
   "source": [
    "# estimating μ_θ\n",
    "hat_mu_theta = np.mean(firm_callback_race['hat_theta_f']) \n",
    "\n",
    "# estimating σ_θ^2\n",
    "hat_s_theta_2 = np.var(firm_callback_race['hat_theta_f'], ddof=1)\n",
    "mean_s_f_2 = np.mean(firm_callback_race['s_f_squared'])\n",
    "hat_sigma_theta_2 = hat_s_theta_2 - mean_s_f_2\n",
    "\n",
    "# proportion noise\n",
    "proportion_noise = mean_s_f_2 / hat_s_theta_2\n",
    "print(hat_mu_theta)\n",
    "print(hat_sigma_theta_2, mean_s_f_2)\n",
    "print(hat_s_theta_2)\n",
    "print(proportion_noise)"
   ]
  },
  {
   "cell_type": "code",
   "execution_count": 12,
   "id": "0a20924c-50f0-471f-b880-3cc662a3abf8",
   "metadata": {},
   "outputs": [
    {
     "name": "stdout",
     "output_type": "stream",
     "text": [
      "Image output saved to 'callback-histogram-nd.png'\n"
     ]
    },
    {
     "data": {
      "image/png": "[encoded data removed]",
      "text/plain": [
       "<Figure size 720x720 with 1 Axes>"
      ]
     },
     "metadata": {
      "needs_background": "light"
     },
     "output_type": "display_data"
    }
   ],
   "source": [
    "plt.figure(figsize=(10, 10))\n",
    "plt.hist(firm_callback_race['hat_theta_f'], bins=15, edgecolor='black', alpha=0.7, label='$\\\\hat{\\\\theta}_f$')\n",
    "\n",
    "x_values = np.linspace(min(firm_callback_race['hat_theta_f']), max(firm_callback_race['hat_theta_f']), 500)\n",
    "normal_pdf = norm.pdf(x_values, loc=hat_mu_theta, scale=np.sqrt(hat_sigma_theta_2))\n",
    "plt.plot(x_values, normal_pdf, color='red', label='Normal Distribution')\n",
    "\n",
    "plt.title('Histogram of white-black callback rate differences, in percentage points')\n",
    "plt.xlabel('Percentage points')\n",
    "plt.ylabel('Frequency')\n",
    "plt.ylim(0, 30)\n",
    "plt.grid(axis='y', linestyle='--', alpha=0.7)\n",
    "plt.legend()\n",
    "file_name = \"callback-histogram-nd.png\"\n",
    "plt.savefig(file_name)\n",
    "print(f\"Image output saved to '{file_name}'\")\n",
    "plt.show()"
   ]
  },
  {
   "cell_type": "markdown",
   "id": "38a8d0cc-f540-43fe-9087-84238c599960",
   "metadata": {},
   "source": [
    "## Part 5\n",
    "\n",
    "Calculating linear shrinkage."
   ]
  },
  {
   "cell_type": "code",
   "execution_count": 13,
   "id": "ad4f14ed-085c-41d8-95c6-d90636f4f8d0",
   "metadata": {},
   "outputs": [
    {
     "data": {
      "text/html": [
       "<div>\n",
       "<style scoped>\n",
       "    .dataframe tbody tr th:only-of-type {\n",
       "        vertical-align: middle;\n",
       "    }\n",
       "\n",
       "    .dataframe tbody tr th {\n",
       "        vertical-align: top;\n",
       "    }\n",
       "\n",
       "    .dataframe thead th {\n",
       "        text-align: right;\n",
       "    }\n",
       "</style>\n",
       "<table border=\"1\" class=\"dataframe\">\n",
       "  <thead>\n",
       "    <tr style=\"text-align: right;\">\n",
       "      <th></th>\n",
       "      <th>firm_name</th>\n",
       "      <th>hat_theta_f</th>\n",
       "      <th>s_f</th>\n",
       "      <th>s_f_squared</th>\n",
       "      <th>hat_theta_f_star</th>\n",
       "    </tr>\n",
       "  </thead>\n",
       "  <tbody>\n",
       "    <tr>\n",
       "      <th>0</th>\n",
       "      <td>AECOM</td>\n",
       "      <td>0.005348</td>\n",
       "      <td>0.005354</td>\n",
       "      <td>0.000029</td>\n",
       "      <td>0.006810</td>\n",
       "    </tr>\n",
       "    <tr>\n",
       "      <th>1</th>\n",
       "      <td>AT&amp;T</td>\n",
       "      <td>0.009786</td>\n",
       "      <td>0.016910</td>\n",
       "      <td>0.000286</td>\n",
       "      <td>0.015505</td>\n",
       "    </tr>\n",
       "    <tr>\n",
       "      <th>2</th>\n",
       "      <td>Advance Auto Parts</td>\n",
       "      <td>0.073961</td>\n",
       "      <td>0.022226</td>\n",
       "      <td>0.000494</td>\n",
       "      <td>0.040249</td>\n",
       "    </tr>\n",
       "    <tr>\n",
       "      <th>3</th>\n",
       "      <td>Aramark</td>\n",
       "      <td>0.019391</td>\n",
       "      <td>0.011832</td>\n",
       "      <td>0.000140</td>\n",
       "      <td>0.019964</td>\n",
       "    </tr>\n",
       "    <tr>\n",
       "      <th>4</th>\n",
       "      <td>Ascena (Ann Taylor / Loft)</td>\n",
       "      <td>0.067797</td>\n",
       "      <td>0.022934</td>\n",
       "      <td>0.000526</td>\n",
       "      <td>0.037347</td>\n",
       "    </tr>\n",
       "    <tr>\n",
       "      <th>...</th>\n",
       "      <td>...</td>\n",
       "      <td>...</td>\n",
       "      <td>...</td>\n",
       "      <td>...</td>\n",
       "      <td>...</td>\n",
       "    </tr>\n",
       "    <tr>\n",
       "      <th>92</th>\n",
       "      <td>Walgreens</td>\n",
       "      <td>0.061017</td>\n",
       "      <td>0.023519</td>\n",
       "      <td>0.000553</td>\n",
       "      <td>0.034537</td>\n",
       "    </tr>\n",
       "    <tr>\n",
       "      <th>93</th>\n",
       "      <td>Walmart</td>\n",
       "      <td>0.070000</td>\n",
       "      <td>0.039198</td>\n",
       "      <td>0.001537</td>\n",
       "      <td>0.028658</td>\n",
       "    </tr>\n",
       "    <tr>\n",
       "      <th>94</th>\n",
       "      <td>Waste Management</td>\n",
       "      <td>0.000092</td>\n",
       "      <td>0.014720</td>\n",
       "      <td>0.000217</td>\n",
       "      <td>0.009255</td>\n",
       "    </tr>\n",
       "    <tr>\n",
       "      <th>95</th>\n",
       "      <td>WestRock</td>\n",
       "      <td>0.001852</td>\n",
       "      <td>0.018573</td>\n",
       "      <td>0.000345</td>\n",
       "      <td>0.012476</td>\n",
       "    </tr>\n",
       "    <tr>\n",
       "      <th>96</th>\n",
       "      <td>XPO Logistics</td>\n",
       "      <td>0.010473</td>\n",
       "      <td>0.013363</td>\n",
       "      <td>0.000179</td>\n",
       "      <td>0.014613</td>\n",
       "    </tr>\n",
       "  </tbody>\n",
       "</table>\n",
       "<p>97 rows × 5 columns</p>\n",
       "</div>"
      ],
      "text/plain": [
       "                     firm_name  hat_theta_f       s_f  s_f_squared  \\\n",
       "0                        AECOM     0.005348  0.005354     0.000029   \n",
       "1                         AT&T     0.009786  0.016910     0.000286   \n",
       "2           Advance Auto Parts     0.073961  0.022226     0.000494   \n",
       "3                      Aramark     0.019391  0.011832     0.000140   \n",
       "4   Ascena (Ann Taylor / Loft)     0.067797  0.022934     0.000526   \n",
       "..                         ...          ...       ...          ...   \n",
       "92                   Walgreens     0.061017  0.023519     0.000553   \n",
       "93                     Walmart     0.070000  0.039198     0.001537   \n",
       "94            Waste Management     0.000092  0.014720     0.000217   \n",
       "95                    WestRock     0.001852  0.018573     0.000345   \n",
       "96               XPO Logistics     0.010473  0.013363     0.000179   \n",
       "\n",
       "    hat_theta_f_star  \n",
       "0           0.006810  \n",
       "1           0.015505  \n",
       "2           0.040249  \n",
       "3           0.019964  \n",
       "4           0.037347  \n",
       "..               ...  \n",
       "92          0.034537  \n",
       "93          0.028658  \n",
       "94          0.009255  \n",
       "95          0.012476  \n",
       "96          0.014613  \n",
       "\n",
       "[97 rows x 5 columns]"
      ]
     },
     "execution_count": 13,
     "metadata": {},
     "output_type": "execute_result"
    }
   ],
   "source": [
    "shrinkage_weights = hat_sigma_theta_2 / (hat_sigma_theta_2 + firm_callback_race['s_f_squared'])\n",
    "\n",
    "firm_callback_race['hat_theta_f_star'] = (shrinkage_weights * firm_callback_race['hat_theta_f']) + ((1 - shrinkage_weights) * hat_mu_theta)\n",
    "firm_callback_race"
   ]
  },
  {
   "cell_type": "code",
   "execution_count": 14,
   "id": "72577d7b-90f1-4d57-b592-cb1f35d7b3b8",
   "metadata": {},
   "outputs": [
    {
     "name": "stdout",
     "output_type": "stream",
     "text": [
      "Image output saved to 'callback-histogram-nd-shrinkage.png'\n"
     ]
    },
    {
     "data": {
      "image/png": "[encoded data removed]",
      "text/plain": [
       "<Figure size 720x720 with 1 Axes>"
      ]
     },
     "metadata": {
      "needs_background": "light"
     },
     "output_type": "display_data"
    }
   ],
   "source": [
    "plt.figure(figsize=(10, 10))\n",
    "\n",
    "bin_edges = np.linspace(\n",
    "    min(min(firm_callback_race['hat_theta_f']), min(firm_callback_race['hat_theta_f_star'])),\n",
    "    max(max(firm_callback_race['hat_theta_f']), max(firm_callback_race['hat_theta_f_star'])),\n",
    "    16  # uniform number of bins: 15\n",
    ")\n",
    "\n",
    "plt.hist(firm_callback_race['hat_theta_f'], bins=bin_edges, edgecolor='black', alpha=0.7, label='$\\\\hat{\\\\theta}_f$ (Original Estimate)')\n",
    "plt.hist(firm_callback_race['hat_theta_f_star'], bins=bin_edges, edgecolor='black', alpha=0.7, label='$\\\\hat{\\\\theta}_f^*$ (Shrinkage Estimate)')\n",
    "\n",
    "\n",
    "x_values = np.linspace(min(firm_callback_race['hat_theta_f']), max(firm_callback_race['hat_theta_f']), 500)\n",
    "normal_pdf = norm.pdf(x_values, loc=hat_mu_theta, scale=np.sqrt(hat_sigma_theta_2))\n",
    "plt.plot(x_values, normal_pdf, color='red', label='Normal Distribution')\n",
    "plt.ylim(0, 30)\n",
    "plt.title('Histogram of white-black callback rate differences, in percentage points')\n",
    "plt.xlabel('Percentage points')\n",
    "plt.ylabel('Frequency')\n",
    "plt.grid(axis='y', linestyle='--', alpha=0.7)\n",
    "plt.legend()\n",
    "file_name = \"callback-histogram-nd-shrinkage.png\"\n",
    "plt.savefig(file_name)\n",
    "print(f\"Image output saved to '{file_name}'\")\n",
    "plt.show()"
   ]
  },
  {
   "cell_type": "markdown",
   "id": "489d62d0-5169-4bfa-9449-70f421ea598c",
   "metadata": {},
   "source": [
    "## Part 6"
   ]
  },
  {
   "cell_type": "code",
   "execution_count": 15,
   "id": "04efa6cd-e415-4219-b576-7c875678e86b",
   "metadata": {},
   "outputs": [
    {
     "name": "stdout",
     "output_type": "stream",
     "text": [
      "Improvement in average MSE using shrinkage estimates: 57.28%\n"
     ]
    }
   ],
   "source": [
    "mse_original = firm_callback_race['s_f_squared']\n",
    "mse_shrinkage = (shrinkage_weights ** 2) * firm_callback_race['s_f_squared'] + ((1 - shrinkage_weights) ** 2) * hat_sigma_theta_2\n",
    "avg_mse_original = mse_original.mean()\n",
    "avg_mse_shrinkage = mse_shrinkage.mean()\n",
    "improvement_pct = (avg_mse_original - avg_mse_shrinkage) / avg_mse_original * 100\n",
    "print(f\"Improvement in average MSE using shrinkage estimates: {improvement_pct:.2f}%\")"
   ]
  },
  {
   "cell_type": "markdown",
   "id": "73073aa5-b00c-4c9b-a640-698a82438db1",
   "metadata": {},
   "source": [
    "# Problem 3"
   ]
  },
  {
   "cell_type": "markdown",
   "id": "f4052eb7-724c-483c-aa49-1af576e3eede",
   "metadata": {},
   "source": [
    "## Part 1"
   ]
  },
  {
   "cell_type": "code",
   "execution_count": 16,
   "id": "3353949c-c11e-4ed3-b8c8-a3284ecf8409",
   "metadata": {},
   "outputs": [
    {
     "name": "stdout",
     "output_type": "stream",
     "text": [
      "Image output saved to 'p-value-histogram.png'\n"
     ]
    },
    {
     "data": {
      "image/png": "[encoded data removed]",
      "text/plain": [
       "<Figure size 720x432 with 1 Axes>"
      ]
     },
     "metadata": {
      "needs_background": "light"
     },
     "output_type": "display_data"
    }
   ],
   "source": [
    "firm_callback_race['z_f'] = firm_callback_race['hat_theta_f'] / firm_callback_race['s_f'] # z-score\n",
    "firm_callback_race['p_f'] = 1 - norm.cdf(firm_callback_race['z_f']) # one-sided p-values\n",
    "\n",
    "# Plot the histogram of p-values\n",
    "plt.figure(figsize=(10, 6))\n",
    "plt.hist(firm_callback_race['p_f'], bins=15, edgecolor='black', alpha=0.7)\n",
    "plt.title(\"Histogram of one-sided p-values\")\n",
    "plt.xlabel(\"p-Value\")\n",
    "plt.ylabel(\"Frequency\")\n",
    "plt.grid(axis='y', linestyle='--', alpha=0.7)\n",
    "file_name = \"p-value-histogram.png\"\n",
    "plt.savefig(file_name)\n",
    "print(f\"Image output saved to '{file_name}'\")\n",
    "plt.show()"
   ]
  },
  {
   "cell_type": "markdown",
   "id": "9cc26744-03d9-4877-a9fc-751e56c4b13f",
   "metadata": {},
   "source": [
    "## Part 2\n",
    "No code needed for this part."
   ]
  },
  {
   "cell_type": "markdown",
   "id": "148ab538-0aaf-4bb0-a970-bd66137fec07",
   "metadata": {},
   "source": [
    "## Part 3"
   ]
  },
  {
   "cell_type": "code",
   "execution_count": 17,
   "id": "5967e0cf-cd9c-4fb8-a68e-c876052c8adf",
   "metadata": {},
   "outputs": [
    {
     "name": "stdout",
     "output_type": "stream",
     "text": [
      "Estimated upper bound on π_0 (at b = 0.5): 0.3918\n"
     ]
    }
   ],
   "source": [
    "b = 0.5\n",
    "above_threshold = (firm_callback_race['p_f'] > b).sum()\n",
    "hat_pi_0 = above_threshold / ((1 - b) * len(firm_callback_race))\n",
    "print(f\"Estimated upper bound on π_0 (at b = {b}): {hat_pi_0:.4f}\")"
   ]
  },
  {
   "cell_type": "markdown",
   "id": "d826c311-4b16-42e8-b85f-21cd3f642be0",
   "metadata": {},
   "source": [
    "## Part 4"
   ]
  },
  {
   "cell_type": "code",
   "execution_count": 18,
   "id": "165f4b0c-1efc-4eea-917d-5a33936f1882",
   "metadata": {},
   "outputs": [
    {
     "name": "stdout",
     "output_type": "stream",
     "text": [
      "CSV file saved to 'rejected_firms.csv'\n"
     ]
    }
   ],
   "source": [
    "firm_callback_race['hat_F_p'] = firm_callback_race['p_f'].rank(method='max') / len(firm_callback_race) # empirical CDF of p-values\n",
    "firm_callback_race['q_f'] = (firm_callback_race['p_f'] * hat_pi_0) / firm_callback_race['hat_F_p'] # q values\n",
    "rejected_firms = firm_callback_race[firm_callback_race['q_f'] <= 0.05]\n",
    "result = rejected_firms[['firm_name', 'hat_theta_f', 's_f', 'p_f', 'q_f', 'hat_theta_f_star']].sort_values(by='q_f')\n",
    "result\n",
    "\n",
    "# save above dataframe into csv\n",
    "result_csv = \"rejected_firms.csv\"\n",
    "result.to_csv(result_csv, index=False)\n",
    "print(f\"CSV file saved to '{result_csv}'\")"
   ]
  },
  {
   "cell_type": "code",
   "execution_count": 19,
   "id": "38f6404b-7c4c-47f0-8862-44c3ca1d4c9d",
   "metadata": {},
   "outputs": [
    {
     "name": "stdout",
     "output_type": "stream",
     "text": [
      "CSV file saved to 'firm_callback_race.csv'\n"
     ]
    }
   ],
   "source": [
    "# save above dataframe into csv\n",
    "firm_callback_race_csv = \"firm_callback_race.csv\"\n",
    "firm_callback_race.to_csv(firm_callback_race_csv, index=False)\n",
    "print(f\"CSV file saved to '{firm_callback_race_csv}'\")"
   ]
  }
 ],
 "metadata": {
  "kernelspec": {
   "display_name": "Python 3 (ipykernel)",
   "language": "python",
   "name": "python3"
  },
  "language_info": {
   "codemirror_mode": {
    "name": "ipython",
    "version": 3
   },
   "file_extension": ".py",
   "mimetype": "text/x-python",
   "name": "python",
   "nbconvert_exporter": "python",
   "pygments_lexer": "ipython3",
   "version": "3.9.12"
  }
 },
 "nbformat": 4,
 "nbformat_minor": 5
}
